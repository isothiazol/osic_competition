{
 "metadata": {
  "language_info": {
   "codemirror_mode": {
    "name": "ipython",
    "version": 3
   },
   "file_extension": ".py",
   "mimetype": "text/x-python",
   "name": "python",
   "nbconvert_exporter": "python",
   "pygments_lexer": "ipython3",
   "version": "3.6.10-final"
  },
  "orig_nbformat": 2,
  "kernelspec": {
   "name": "Python 3.6.10 64-bit",
   "display_name": "Python 3.6.10 64-bit",
   "metadata": {
    "interpreter": {
     "hash": "73fb50b98bc55ab5819a4c2ceb35b1ede81c9878d907dc98f54b6004841390e1"
    }
   }
  }
 },
 "nbformat": 4,
 "nbformat_minor": 2,
 "cells": [
  {
   "cell_type": "code",
   "execution_count": 1,
   "metadata": {},
   "outputs": [],
   "source": [
    "# READ REFERENCE --> https://towardsdatascience.com/generalized-linear-models-9cbf848bb8ab"
   ]
  },
  {
   "cell_type": "code",
   "execution_count": 2,
   "metadata": {},
   "outputs": [],
   "source": [
    "import numpy as np \n",
    "import pandas as pd\n",
    "from tqdm import tqdm\n",
    "from matplotlib import pyplot as plt\n",
    "import pymc3 as pm\n",
    "\n",
    "import sys\n",
    "sys.path.append('../scripts/') \n",
    "\n",
    "from aux_funcs import label_encoder, load_ct_scans, competition_metric, extract_img_id, get_config, make_ct_git, filter_by_std\n",
    "from sklearn.model_selection import train_test_split\n",
    "\n",
    "config = get_config()\n",
    "train_df = pd.read_csv(config['data_path']+'/train.csv')\n",
    "test_df = pd.read_csv(config['data_path']+'/test.csv')"
   ]
  },
  {
   "cell_type": "code",
   "execution_count": 3,
   "metadata": {},
   "outputs": [],
   "source": [
    "def encode_categorical(df):\n",
    "    sex_encoding = {'Male':0, 'Female':1}\n",
    "    df.Sex = df.Sex.apply(lambda x: 1 if x == 'Female' else 0)\n",
    "    df['current_smoker'] = df.SmokingStatus.apply(lambda x: 1 if x == 'Currently smokes' else 0)\n",
    "    df['ex_smoker'] = df.SmokingStatus.apply(lambda x: 1 if x == 'Ex-smoker' else 0)\n",
    "    df['never_smoker'] = df.SmokingStatus.apply(lambda x: 1 if x == 'Never smoked' else 0)\n",
    "    df.drop(['SmokingStatus'],1,inplace=True)\n",
    "\n",
    "    return df"
   ]
  },
  {
   "cell_type": "code",
   "execution_count": 4,
   "metadata": {},
   "outputs": [],
   "source": [
    "# Getting the data ready\n",
    "\n",
    "train_df = encode_categorical(train_df)\n",
    "test_df = encode_categorical(test_df)\n",
    "patients_train, patients_test = train_test_split(np.unique(train_df['Patient'].values), test_size=0.3, shuffle=True, random_state=63)\n",
    "\n",
    "df_train = []\n",
    "for p in patients_train:\n",
    "    mask = train_df['Patient'] == p\n",
    "    df_train.append(train_df.values[mask])\n",
    "df_train = pd.DataFrame(np.concatenate(df_train, 0), columns=list(train_df.columns))\n",
    "\n",
    "df_test = []\n",
    "for p in patients_test:\n",
    "    mask = train_df['Patient'] == p\n",
    "    df_test.append(train_df.values[mask])\n",
    "df_test = pd.DataFrame(np.concatenate(df_test, 0), columns=list(train_df.columns))\n",
    "\n",
    "# Normalizing data\n",
    "mu_norm = dict()\n",
    "std_norm = dict()\n",
    "\n",
    "for feat in ['Weeks', 'FVC', 'Percent', 'Age']:\n",
    "    mu_norm[feat], std_norm[feat] = np.mean(df_train[feat].values), np.std(df_train[feat].values)\n",
    "    df_train[feat] = (df_train[feat].values - mu_norm[feat])/std_norm[feat]\n",
    "    df_test[feat] = (df_test[feat].values - mu_norm[feat])/std_norm[feat]\n",
    "\n",
    "pats_train = df_train['Patient'].values\n",
    "pats_test = df_test['Patient'].values\n",
    "\n",
    "X_train = df_train.drop(['Patient', 'FVC'], 1)\n",
    "cols_X = X_train.columns\n",
    "X_train = X_train.values.astype(np.float32)\n",
    "Y_train = df_train['FVC'].values.astype(np.float32)\n",
    "X_test = df_test.drop(['Patient', 'FVC'], 1).values.astype(np.float32)\n",
    "Y_test = df_test['FVC'].values.astype(np.float32)"
   ]
  },
  {
   "cell_type": "code",
   "execution_count": 12,
   "metadata": {},
   "outputs": [],
   "source": [
    "class BayesianLR:\n",
    "    def __init__(self):\n",
    "        pass\n",
    "\n",
    "    def predict(self, X, n_samples):\n",
    "        Y = np.zeros((X.shape[0], n_samples))\n",
    "\n",
    "        for i in tqdm(range(n_samples)):\n",
    "            sigma = np.random.choice(self.params['sigma'])\n",
    "            inter = np.random.choice(self.params['Intercept'])\n",
    "            x_coeff = []\n",
    "            for i in range(X.shape[1]):\n",
    "                x_coeff.append(np.random.choice(self.params['x_coeff_'+str(i)]))\n",
    "            x_coeff = np.array(x_coeff)\n",
    "\n",
    "            Y_mu = inter + np.dot(X, x_coeff)\n",
    "            Y[:,i] = norm(Y_mu, sigma).rvs(Y_mu.shape[0])\n",
    "\n",
    "        return Y\n",
    "\n",
    "    def fit(self, X, Y):\n",
    "        with pm.Model() as model: # model specifications in PyMC3 are wrapped in a with-statement\n",
    "            # Define priors\n",
    "            sigma = pm.HalfNormal('sigma', sigma=10)\n",
    "            intercept = pm.Normal('Intercept', 0, sigma=20)\n",
    "\n",
    "            mu = intercept\n",
    "            \n",
    "            for i in range(X.shape[1]):\n",
    "                x_coeff = pm.Normal('x_coeff_'+str(i), 0, sigma=20)\n",
    "                mu += X[:,i] * x_coeff\n",
    "\n",
    "            # Define likelihood\n",
    "            likelihood = pm.Normal('y', mu=mu , sigma=sigma, observed=Y)\n",
    "\n",
    "            # Inference!\n",
    "            self.trace = pm.sample(draws=2000, target_accept=0.95, max_treedepth=100, cores=2)\n",
    "\n",
    "            # Store results\n",
    "            self.params = dict()\n",
    "            for x in self.trace.varnames[1:]:    \n",
    "                self.params[x] = trace.get_values(x)\n",
    "            "
   ]
  },
  {
   "cell_type": "code",
   "execution_count": 13,
   "metadata": {
    "tags": []
   },
   "outputs": [
    {
     "output_type": "stream",
     "name": "stderr",
     "text": "Auto-assigning NUTS sampler...\nInitializing NUTS using jitter+adapt_diag...\nMultiprocess sampling (2 chains in 2 jobs)\nNUTS: [x_coeff_6, x_coeff_5, x_coeff_4, x_coeff_3, x_coeff_2, x_coeff_1, x_coeff_0, Intercept, sigma]\n"
    },
    {
     "output_type": "display_data",
     "data": {
      "text/plain": "&lt;IPython.core.display.HTML object&gt;",
      "text/html": "\n    <div>\n        <style>\n            /* Turns off some styling */\n            progress {\n                /* gets rid of default border in Firefox and Opera. */\n                border: none;\n                /* Needs to be in here for Safari polyfill so background images work as expected. */\n                background-size: auto;\n            }\n            .progress-bar-interrupted, .progress-bar-interrupted::-webkit-progress-bar {\n                background: #F44336;\n            }\n        </style>\n      <progress value='0' class='' max='6000' style='width:300px; height:20px; vertical-align: middle;'></progress>\n      \n    </div>\n    "
     },
     "metadata": {}
    },
    {
     "output_type": "stream",
     "name": "stderr",
     "text": "Sampling 2 chains for 1_000 tune and 2_000 draw iterations (2_000 + 4_000 draws total) took 1739 seconds.\n"
    },
    {
     "output_type": "error",
     "ename": "NameError",
     "evalue": "name &#39;trace&#39; is not defined",
     "traceback": [
      "\u001b[0;31m---------------------------------------------------------------------------\u001b[0m",
      "\u001b[0;31mNameError\u001b[0m                                 Traceback (most recent call last)",
      "\u001b[0;32m&lt;ipython-input-13-78d4c23e060d&gt;\u001b[0m in \u001b[0;36m&lt;module&gt;\u001b[0;34m\u001b[0m\n\u001b[1;32m      1\u001b[0m \u001b[0mregr\u001b[0m \u001b[0;34m=\u001b[0m \u001b[0mBayesianLR\u001b[0m\u001b[0;34m(\u001b[0m\u001b[0;34m)\u001b[0m\u001b[0;34m\u001b[0m\u001b[0;34m\u001b[0m\u001b[0m\n\u001b[0;32m----&gt; 2\u001b[0;31m \u001b[0mregr\u001b[0m\u001b[0;34m.\u001b[0m\u001b[0mfit\u001b[0m\u001b[0;34m(\u001b[0m\u001b[0mX_train\u001b[0m\u001b[0;34m,\u001b[0m \u001b[0mY_train\u001b[0m\u001b[0;34m)\u001b[0m\u001b[0;34m\u001b[0m\u001b[0;34m\u001b[0m\u001b[0m\n\u001b[0m",
      "\u001b[0;32m&lt;ipython-input-12-da34e6236e34&gt;\u001b[0m in \u001b[0;36mfit\u001b[0;34m(self, X, Y)\u001b[0m\n\u001b[1;32m     40\u001b[0m             \u001b[0mself\u001b[0m\u001b[0;34m.\u001b[0m\u001b[0mparams\u001b[0m \u001b[0;34m=\u001b[0m \u001b[0mdict\u001b[0m\u001b[0;34m(\u001b[0m\u001b[0;34m)\u001b[0m\u001b[0;34m\u001b[0m\u001b[0;34m\u001b[0m\u001b[0m\n\u001b[1;32m     41\u001b[0m             \u001b[0;32mfor\u001b[0m \u001b[0mx\u001b[0m \u001b[0;32min\u001b[0m \u001b[0mself\u001b[0m\u001b[0;34m.\u001b[0m\u001b[0mtrace\u001b[0m\u001b[0;34m.\u001b[0m\u001b[0mvarnames\u001b[0m\u001b[0;34m[\u001b[0m\u001b[0;36m1\u001b[0m\u001b[0;34m:\u001b[0m\u001b[0;34m]\u001b[0m\u001b[0;34m:\u001b[0m\u001b[0;34m\u001b[0m\u001b[0;34m\u001b[0m\u001b[0m\n\u001b[0;32m---&gt; 42\u001b[0;31m                 \u001b[0mself\u001b[0m\u001b[0;34m.\u001b[0m\u001b[0mparams\u001b[0m\u001b[0;34m[\u001b[0m\u001b[0mx\u001b[0m\u001b[0;34m]\u001b[0m \u001b[0;34m=\u001b[0m \u001b[0mtrace\u001b[0m\u001b[0;34m.\u001b[0m\u001b[0mget_values\u001b[0m\u001b[0;34m(\u001b[0m\u001b[0mx\u001b[0m\u001b[0;34m)\u001b[0m\u001b[0;34m\u001b[0m\u001b[0;34m\u001b[0m\u001b[0m\n\u001b[0m\u001b[1;32m     43\u001b[0m \u001b[0;34m\u001b[0m\u001b[0m\n",
      "\u001b[0;31mNameError\u001b[0m: name &#39;trace&#39; is not defined"
     ]
    }
   ],
   "source": [
    "regr = BayesianLR()\n",
    "regr.fit(X_train, Y_train)"
   ]
  },
  {
   "cell_type": "code",
   "execution_count": 167,
   "metadata": {
    "tags": []
   },
   "outputs": [
    {
     "output_type": "stream",
     "name": "stdout",
     "text": "Training Error 0.16626465113363897\nTest Error 0.2407009649274396\n"
    }
   ],
   "source": [
    "Y_pred_tr = np.mean(regr.predict(X_train),1)\n",
    "Y_pred = np.mean(regr.predict(X_test),1)\n",
    "\n",
    "print('Training Error', np.mean(np.square(Y_train - Y_pred_tr )))\n",
    "print('Test Error', np.mean(np.square(Y_test - Y_pred )))"
   ]
  },
  {
   "cell_type": "code",
   "execution_count": 168,
   "metadata": {
    "tags": []
   },
   "outputs": [
    {
     "output_type": "display_data",
     "data": {
      "text/plain": "&lt;Figure size 1080x360 with 1 Axes&gt;",
      "image/svg+xml": "<?xml version=\"1.0\" encoding=\"utf-8\" standalone=\"no\"?>\n<!DOCTYPE svg PUBLIC \"-//W3C//DTD SVG 1.1//EN\"\n  \"http://www.w3.org/Graphics/SVG/1.1/DTD/svg11.dtd\">\n<!-- Created with matplotlib (https://matplotlib.org/) -->\n<svg height=\"302.878125pt\" version=\"1.1\" viewBox=\"0 0 883.85 302.878125\" width=\"883.85pt\" xmlns=\"http://www.w3.org/2000/svg\" xmlns:xlink=\"http://www.w3.org/1999/xlink\">\n <defs>\n  <style type=\"text/css\">\n*{stroke-linecap:butt;stroke-linejoin:round;}\n  </style>\n </defs>\n <g id=\"figure_1\">\n  <g id=\"patch_1\">\n   <path d=\"M -0 302.878125 \nL 883.85 302.878125 \nL 883.85 0 \nL -0 0 \nz\n\" style=\"fill:none;\"/>\n  </g>\n  <g id=\"axes_1\">\n   <g id=\"patch_2\">\n    <path d=\"M 39.65 279 \nL 876.65 279 \nL 876.65 7.2 \nL 39.65 7.2 \nz\n\" style=\"fill:#ffffff;\"/>\n   </g>\n   <g id=\"PathCollection_1\">\n    <defs>\n     <path d=\"M 0 3 \nC 0.795609 3 1.55874 2.683901 2.12132 2.12132 \nC 2.683901 1.55874 3 0.795609 3 0 \nC 3 -0.795609 2.683901 -1.55874 2.12132 -2.12132 \nC 1.55874 -2.683901 0.795609 -3 0 -3 \nC -0.795609 -3 -1.55874 -2.683901 -2.12132 -2.12132 \nC -2.683901 -1.55874 -3 -0.795609 -3 0 \nC -3 0.795609 -2.683901 1.55874 -2.12132 2.12132 \nC -1.55874 2.683901 -0.795609 3 0 3 \nz\n\" id=\"m63c6059496\" style=\"stroke:#008000;\"/>\n    </defs>\n    <g clip-path=\"url(#pde323a76ec)\">\n     <use style=\"fill:#008000;stroke:#008000;\" x=\"229.877273\" xlink:href=\"#m63c6059496\" y=\"32.636627\"/>\n     <use style=\"fill:#008000;stroke:#008000;\" x=\"235.124922\" xlink:href=\"#m63c6059496\" y=\"39.177668\"/>\n     <use style=\"fill:#008000;stroke:#008000;\" x=\"245.620219\" xlink:href=\"#m63c6059496\" y=\"49.492386\"/>\n     <use style=\"fill:#008000;stroke:#008000;\" x=\"250.867868\" xlink:href=\"#m63c6059496\" y=\"42.19661\"/>\n     <use style=\"fill:#008000;stroke:#008000;\" x=\"266.610815\" xlink:href=\"#m63c6059496\" y=\"59.303947\"/>\n     <use style=\"fill:#008000;stroke:#008000;\" x=\"298.096708\" xlink:href=\"#m63c6059496\" y=\"35.907148\"/>\n     <use style=\"fill:#008000;stroke:#008000;\" x=\"361.068495\" xlink:href=\"#m63c6059496\" y=\"19.806124\"/>\n     <use style=\"fill:#008000;stroke:#008000;\" x=\"418.792633\" xlink:href=\"#m63c6059496\" y=\"19.554545\"/>\n     <use style=\"fill:#008000;stroke:#008000;\" x=\"508.002665\" xlink:href=\"#m63c6059496\" y=\"74.147078\"/>\n     <use style=\"fill:#008000;stroke:#008000;\" x=\"523.745611\" xlink:href=\"#m63c6059496\" y=\"54.775534\"/>\n    </g>\n   </g>\n   <g id=\"PathCollection_2\">\n    <defs>\n     <path d=\"M 0 3 \nC 0.795609 3 1.55874 2.683901 2.12132 2.12132 \nC 2.683901 1.55874 3 0.795609 3 0 \nC 3 -0.795609 2.683901 -1.55874 2.12132 -2.12132 \nC 1.55874 -2.683901 0.795609 -3 0 -3 \nC -0.795609 -3 -1.55874 -2.683901 -2.12132 -2.12132 \nC -2.683901 -1.55874 -3 -0.795609 -3 0 \nC -3 0.795609 -2.683901 1.55874 -2.12132 2.12132 \nC -1.55874 2.683901 -0.795609 3 0 3 \nz\n\" id=\"me513bad1a6\" style=\"stroke:#ff0000;\"/>\n    </defs>\n    <g clip-path=\"url(#pde323a76ec)\">\n     <use style=\"fill:#ff0000;stroke:#ff0000;\" x=\"508.002665\" xlink:href=\"#me513bad1a6\" y=\"74.147078\"/>\n    </g>\n   </g>\n   <g id=\"matplotlib.axis_1\">\n    <g id=\"xtick_1\">\n     <g id=\"line2d_1\">\n      <defs>\n       <path d=\"M 0 0 \nL 0 3.5 \n\" id=\"m974bd891a0\" style=\"stroke:#000000;stroke-width:0.8;\"/>\n      </defs>\n      <g>\n       <use style=\"stroke:#000000;stroke-width:0.8;\" x=\"67.200157\" xlink:href=\"#m974bd891a0\" y=\"279\"/>\n      </g>\n     </g>\n     <g id=\"text_1\">\n      <!-- -2 -->\n      <defs>\n       <path d=\"M 4.890625 31.390625 \nL 31.203125 31.390625 \nL 31.203125 23.390625 \nL 4.890625 23.390625 \nz\n\" id=\"DejaVuSans-45\"/>\n       <path d=\"M 19.1875 8.296875 \nL 53.609375 8.296875 \nL 53.609375 0 \nL 7.328125 0 \nL 7.328125 8.296875 \nQ 12.9375 14.109375 22.625 23.890625 \nQ 32.328125 33.6875 34.8125 36.53125 \nQ 39.546875 41.84375 41.421875 45.53125 \nQ 43.3125 49.21875 43.3125 52.78125 \nQ 43.3125 58.59375 39.234375 62.25 \nQ 35.15625 65.921875 28.609375 65.921875 \nQ 23.96875 65.921875 18.8125 64.3125 \nQ 13.671875 62.703125 7.8125 59.421875 \nL 7.8125 69.390625 \nQ 13.765625 71.78125 18.9375 73 \nQ 24.125 74.21875 28.421875 74.21875 \nQ 39.75 74.21875 46.484375 68.546875 \nQ 53.21875 62.890625 53.21875 53.421875 \nQ 53.21875 48.921875 51.53125 44.890625 \nQ 49.859375 40.875 45.40625 35.40625 \nQ 44.1875 33.984375 37.640625 27.21875 \nQ 31.109375 20.453125 19.1875 8.296875 \nz\n\" id=\"DejaVuSans-50\"/>\n      </defs>\n      <g transform=\"translate(62.215 293.598437)scale(0.1 -0.1)\">\n       <use xlink:href=\"#DejaVuSans-45\"/>\n       <use x=\"36.083984\" xlink:href=\"#DejaVuSans-50\"/>\n      </g>\n     </g>\n    </g>\n    <g id=\"xtick_2\">\n     <g id=\"line2d_2\">\n      <g>\n       <use style=\"stroke:#000000;stroke-width:0.8;\" x=\"119.676646\" xlink:href=\"#m974bd891a0\" y=\"279\"/>\n      </g>\n     </g>\n     <g id=\"text_2\">\n      <!-- 8 -->\n      <defs>\n       <path d=\"M 31.78125 34.625 \nQ 24.75 34.625 20.71875 30.859375 \nQ 16.703125 27.09375 16.703125 20.515625 \nQ 16.703125 13.921875 20.71875 10.15625 \nQ 24.75 6.390625 31.78125 6.390625 \nQ 38.8125 6.390625 42.859375 10.171875 \nQ 46.921875 13.96875 46.921875 20.515625 \nQ 46.921875 27.09375 42.890625 30.859375 \nQ 38.875 34.625 31.78125 34.625 \nz\nM 21.921875 38.8125 \nQ 15.578125 40.375 12.03125 44.71875 \nQ 8.5 49.078125 8.5 55.328125 \nQ 8.5 64.0625 14.71875 69.140625 \nQ 20.953125 74.21875 31.78125 74.21875 \nQ 42.671875 74.21875 48.875 69.140625 \nQ 55.078125 64.0625 55.078125 55.328125 \nQ 55.078125 49.078125 51.53125 44.71875 \nQ 48 40.375 41.703125 38.8125 \nQ 48.828125 37.15625 52.796875 32.3125 \nQ 56.78125 27.484375 56.78125 20.515625 \nQ 56.78125 9.90625 50.3125 4.234375 \nQ 43.84375 -1.421875 31.78125 -1.421875 \nQ 19.734375 -1.421875 13.25 4.234375 \nQ 6.78125 9.90625 6.78125 20.515625 \nQ 6.78125 27.484375 10.78125 32.3125 \nQ 14.796875 37.15625 21.921875 38.8125 \nz\nM 18.3125 54.390625 \nQ 18.3125 48.734375 21.84375 45.5625 \nQ 25.390625 42.390625 31.78125 42.390625 \nQ 38.140625 42.390625 41.71875 45.5625 \nQ 45.3125 48.734375 45.3125 54.390625 \nQ 45.3125 60.0625 41.71875 63.234375 \nQ 38.140625 66.40625 31.78125 66.40625 \nQ 25.390625 66.40625 21.84375 63.234375 \nQ 18.3125 60.0625 18.3125 54.390625 \nz\n\" id=\"DejaVuSans-56\"/>\n      </defs>\n      <g transform=\"translate(116.495396 293.598437)scale(0.1 -0.1)\">\n       <use xlink:href=\"#DejaVuSans-56\"/>\n      </g>\n     </g>\n    </g>\n    <g id=\"xtick_3\">\n     <g id=\"line2d_3\">\n      <g>\n       <use style=\"stroke:#000000;stroke-width:0.8;\" x=\"172.153135\" xlink:href=\"#m974bd891a0\" y=\"279\"/>\n      </g>\n     </g>\n     <g id=\"text_3\">\n      <!-- 18 -->\n      <defs>\n       <path d=\"M 12.40625 8.296875 \nL 28.515625 8.296875 \nL 28.515625 63.921875 \nL 10.984375 60.40625 \nL 10.984375 69.390625 \nL 28.421875 72.90625 \nL 38.28125 72.90625 \nL 38.28125 8.296875 \nL 54.390625 8.296875 \nL 54.390625 0 \nL 12.40625 0 \nz\n\" id=\"DejaVuSans-49\"/>\n      </defs>\n      <g transform=\"translate(165.790635 293.598437)scale(0.1 -0.1)\">\n       <use xlink:href=\"#DejaVuSans-49\"/>\n       <use x=\"63.623047\" xlink:href=\"#DejaVuSans-56\"/>\n      </g>\n     </g>\n    </g>\n    <g id=\"xtick_4\">\n     <g id=\"line2d_4\">\n      <g>\n       <use style=\"stroke:#000000;stroke-width:0.8;\" x=\"224.629624\" xlink:href=\"#m974bd891a0\" y=\"279\"/>\n      </g>\n     </g>\n     <g id=\"text_4\">\n      <!-- 28 -->\n      <g transform=\"translate(218.267124 293.598437)scale(0.1 -0.1)\">\n       <use xlink:href=\"#DejaVuSans-50\"/>\n       <use x=\"63.623047\" xlink:href=\"#DejaVuSans-56\"/>\n      </g>\n     </g>\n    </g>\n    <g id=\"xtick_5\">\n     <g id=\"line2d_5\">\n      <g>\n       <use style=\"stroke:#000000;stroke-width:0.8;\" x=\"277.106113\" xlink:href=\"#m974bd891a0\" y=\"279\"/>\n      </g>\n     </g>\n     <g id=\"text_5\">\n      <!-- 38 -->\n      <defs>\n       <path d=\"M 40.578125 39.3125 \nQ 47.65625 37.796875 51.625 33 \nQ 55.609375 28.21875 55.609375 21.1875 \nQ 55.609375 10.40625 48.1875 4.484375 \nQ 40.765625 -1.421875 27.09375 -1.421875 \nQ 22.515625 -1.421875 17.65625 -0.515625 \nQ 12.796875 0.390625 7.625 2.203125 \nL 7.625 11.71875 \nQ 11.71875 9.328125 16.59375 8.109375 \nQ 21.484375 6.890625 26.8125 6.890625 \nQ 36.078125 6.890625 40.9375 10.546875 \nQ 45.796875 14.203125 45.796875 21.1875 \nQ 45.796875 27.640625 41.28125 31.265625 \nQ 36.765625 34.90625 28.71875 34.90625 \nL 20.21875 34.90625 \nL 20.21875 43.015625 \nL 29.109375 43.015625 \nQ 36.375 43.015625 40.234375 45.921875 \nQ 44.09375 48.828125 44.09375 54.296875 \nQ 44.09375 59.90625 40.109375 62.90625 \nQ 36.140625 65.921875 28.71875 65.921875 \nQ 24.65625 65.921875 20.015625 65.03125 \nQ 15.375 64.15625 9.8125 62.3125 \nL 9.8125 71.09375 \nQ 15.4375 72.65625 20.34375 73.4375 \nQ 25.25 74.21875 29.59375 74.21875 \nQ 40.828125 74.21875 47.359375 69.109375 \nQ 53.90625 64.015625 53.90625 55.328125 \nQ 53.90625 49.265625 50.4375 45.09375 \nQ 46.96875 40.921875 40.578125 39.3125 \nz\n\" id=\"DejaVuSans-51\"/>\n      </defs>\n      <g transform=\"translate(270.743613 293.598437)scale(0.1 -0.1)\">\n       <use xlink:href=\"#DejaVuSans-51\"/>\n       <use x=\"63.623047\" xlink:href=\"#DejaVuSans-56\"/>\n      </g>\n     </g>\n    </g>\n    <g id=\"xtick_6\">\n     <g id=\"line2d_6\">\n      <g>\n       <use style=\"stroke:#000000;stroke-width:0.8;\" x=\"329.582602\" xlink:href=\"#m974bd891a0\" y=\"279\"/>\n      </g>\n     </g>\n     <g id=\"text_6\">\n      <!-- 48 -->\n      <defs>\n       <path d=\"M 37.796875 64.3125 \nL 12.890625 25.390625 \nL 37.796875 25.390625 \nz\nM 35.203125 72.90625 \nL 47.609375 72.90625 \nL 47.609375 25.390625 \nL 58.015625 25.390625 \nL 58.015625 17.1875 \nL 47.609375 17.1875 \nL 47.609375 0 \nL 37.796875 0 \nL 37.796875 17.1875 \nL 4.890625 17.1875 \nL 4.890625 26.703125 \nz\n\" id=\"DejaVuSans-52\"/>\n      </defs>\n      <g transform=\"translate(323.220102 293.598437)scale(0.1 -0.1)\">\n       <use xlink:href=\"#DejaVuSans-52\"/>\n       <use x=\"63.623047\" xlink:href=\"#DejaVuSans-56\"/>\n      </g>\n     </g>\n    </g>\n    <g id=\"xtick_7\">\n     <g id=\"line2d_7\">\n      <g>\n       <use style=\"stroke:#000000;stroke-width:0.8;\" x=\"382.059091\" xlink:href=\"#m974bd891a0\" y=\"279\"/>\n      </g>\n     </g>\n     <g id=\"text_7\">\n      <!-- 58 -->\n      <defs>\n       <path d=\"M 10.796875 72.90625 \nL 49.515625 72.90625 \nL 49.515625 64.59375 \nL 19.828125 64.59375 \nL 19.828125 46.734375 \nQ 21.96875 47.46875 24.109375 47.828125 \nQ 26.265625 48.1875 28.421875 48.1875 \nQ 40.625 48.1875 47.75 41.5 \nQ 54.890625 34.8125 54.890625 23.390625 \nQ 54.890625 11.625 47.5625 5.09375 \nQ 40.234375 -1.421875 26.90625 -1.421875 \nQ 22.3125 -1.421875 17.546875 -0.640625 \nQ 12.796875 0.140625 7.71875 1.703125 \nL 7.71875 11.625 \nQ 12.109375 9.234375 16.796875 8.0625 \nQ 21.484375 6.890625 26.703125 6.890625 \nQ 35.15625 6.890625 40.078125 11.328125 \nQ 45.015625 15.765625 45.015625 23.390625 \nQ 45.015625 31 40.078125 35.4375 \nQ 35.15625 39.890625 26.703125 39.890625 \nQ 22.75 39.890625 18.8125 39.015625 \nQ 14.890625 38.140625 10.796875 36.28125 \nz\n\" id=\"DejaVuSans-53\"/>\n      </defs>\n      <g transform=\"translate(375.696591 293.598437)scale(0.1 -0.1)\">\n       <use xlink:href=\"#DejaVuSans-53\"/>\n       <use x=\"63.623047\" xlink:href=\"#DejaVuSans-56\"/>\n      </g>\n     </g>\n    </g>\n    <g id=\"xtick_8\">\n     <g id=\"line2d_8\">\n      <g>\n       <use style=\"stroke:#000000;stroke-width:0.8;\" x=\"434.53558\" xlink:href=\"#m974bd891a0\" y=\"279\"/>\n      </g>\n     </g>\n     <g id=\"text_8\">\n      <!-- 68 -->\n      <defs>\n       <path d=\"M 33.015625 40.375 \nQ 26.375 40.375 22.484375 35.828125 \nQ 18.609375 31.296875 18.609375 23.390625 \nQ 18.609375 15.53125 22.484375 10.953125 \nQ 26.375 6.390625 33.015625 6.390625 \nQ 39.65625 6.390625 43.53125 10.953125 \nQ 47.40625 15.53125 47.40625 23.390625 \nQ 47.40625 31.296875 43.53125 35.828125 \nQ 39.65625 40.375 33.015625 40.375 \nz\nM 52.59375 71.296875 \nL 52.59375 62.3125 \nQ 48.875 64.0625 45.09375 64.984375 \nQ 41.3125 65.921875 37.59375 65.921875 \nQ 27.828125 65.921875 22.671875 59.328125 \nQ 17.53125 52.734375 16.796875 39.40625 \nQ 19.671875 43.65625 24.015625 45.921875 \nQ 28.375 48.1875 33.59375 48.1875 \nQ 44.578125 48.1875 50.953125 41.515625 \nQ 57.328125 34.859375 57.328125 23.390625 \nQ 57.328125 12.15625 50.6875 5.359375 \nQ 44.046875 -1.421875 33.015625 -1.421875 \nQ 20.359375 -1.421875 13.671875 8.265625 \nQ 6.984375 17.96875 6.984375 36.375 \nQ 6.984375 53.65625 15.1875 63.9375 \nQ 23.390625 74.21875 37.203125 74.21875 \nQ 40.921875 74.21875 44.703125 73.484375 \nQ 48.484375 72.75 52.59375 71.296875 \nz\n\" id=\"DejaVuSans-54\"/>\n      </defs>\n      <g transform=\"translate(428.17308 293.598437)scale(0.1 -0.1)\">\n       <use xlink:href=\"#DejaVuSans-54\"/>\n       <use x=\"63.623047\" xlink:href=\"#DejaVuSans-56\"/>\n      </g>\n     </g>\n    </g>\n    <g id=\"xtick_9\">\n     <g id=\"line2d_9\">\n      <g>\n       <use style=\"stroke:#000000;stroke-width:0.8;\" x=\"487.012069\" xlink:href=\"#m974bd891a0\" y=\"279\"/>\n      </g>\n     </g>\n     <g id=\"text_9\">\n      <!-- 78 -->\n      <defs>\n       <path d=\"M 8.203125 72.90625 \nL 55.078125 72.90625 \nL 55.078125 68.703125 \nL 28.609375 0 \nL 18.3125 0 \nL 43.21875 64.59375 \nL 8.203125 64.59375 \nz\n\" id=\"DejaVuSans-55\"/>\n      </defs>\n      <g transform=\"translate(480.649569 293.598437)scale(0.1 -0.1)\">\n       <use xlink:href=\"#DejaVuSans-55\"/>\n       <use x=\"63.623047\" xlink:href=\"#DejaVuSans-56\"/>\n      </g>\n     </g>\n    </g>\n    <g id=\"xtick_10\">\n     <g id=\"line2d_10\">\n      <g>\n       <use style=\"stroke:#000000;stroke-width:0.8;\" x=\"539.488558\" xlink:href=\"#m974bd891a0\" y=\"279\"/>\n      </g>\n     </g>\n     <g id=\"text_10\">\n      <!-- 88 -->\n      <g transform=\"translate(533.126058 293.598437)scale(0.1 -0.1)\">\n       <use xlink:href=\"#DejaVuSans-56\"/>\n       <use x=\"63.623047\" xlink:href=\"#DejaVuSans-56\"/>\n      </g>\n     </g>\n    </g>\n    <g id=\"xtick_11\">\n     <g id=\"line2d_11\">\n      <g>\n       <use style=\"stroke:#000000;stroke-width:0.8;\" x=\"591.965047\" xlink:href=\"#m974bd891a0\" y=\"279\"/>\n      </g>\n     </g>\n     <g id=\"text_11\">\n      <!-- 98 -->\n      <defs>\n       <path d=\"M 10.984375 1.515625 \nL 10.984375 10.5 \nQ 14.703125 8.734375 18.5 7.8125 \nQ 22.3125 6.890625 25.984375 6.890625 \nQ 35.75 6.890625 40.890625 13.453125 \nQ 46.046875 20.015625 46.78125 33.40625 \nQ 43.953125 29.203125 39.59375 26.953125 \nQ 35.25 24.703125 29.984375 24.703125 \nQ 19.046875 24.703125 12.671875 31.3125 \nQ 6.296875 37.9375 6.296875 49.421875 \nQ 6.296875 60.640625 12.9375 67.421875 \nQ 19.578125 74.21875 30.609375 74.21875 \nQ 43.265625 74.21875 49.921875 64.515625 \nQ 56.59375 54.828125 56.59375 36.375 \nQ 56.59375 19.140625 48.40625 8.859375 \nQ 40.234375 -1.421875 26.421875 -1.421875 \nQ 22.703125 -1.421875 18.890625 -0.6875 \nQ 15.09375 0.046875 10.984375 1.515625 \nz\nM 30.609375 32.421875 \nQ 37.25 32.421875 41.125 36.953125 \nQ 45.015625 41.5 45.015625 49.421875 \nQ 45.015625 57.28125 41.125 61.84375 \nQ 37.25 66.40625 30.609375 66.40625 \nQ 23.96875 66.40625 20.09375 61.84375 \nQ 16.21875 57.28125 16.21875 49.421875 \nQ 16.21875 41.5 20.09375 36.953125 \nQ 23.96875 32.421875 30.609375 32.421875 \nz\n\" id=\"DejaVuSans-57\"/>\n      </defs>\n      <g transform=\"translate(585.602547 293.598437)scale(0.1 -0.1)\">\n       <use xlink:href=\"#DejaVuSans-57\"/>\n       <use x=\"63.623047\" xlink:href=\"#DejaVuSans-56\"/>\n      </g>\n     </g>\n    </g>\n    <g id=\"xtick_12\">\n     <g id=\"line2d_12\">\n      <g>\n       <use style=\"stroke:#000000;stroke-width:0.8;\" x=\"644.441536\" xlink:href=\"#m974bd891a0\" y=\"279\"/>\n      </g>\n     </g>\n     <g id=\"text_12\">\n      <!-- 108 -->\n      <defs>\n       <path d=\"M 31.78125 66.40625 \nQ 24.171875 66.40625 20.328125 58.90625 \nQ 16.5 51.421875 16.5 36.375 \nQ 16.5 21.390625 20.328125 13.890625 \nQ 24.171875 6.390625 31.78125 6.390625 \nQ 39.453125 6.390625 43.28125 13.890625 \nQ 47.125 21.390625 47.125 36.375 \nQ 47.125 51.421875 43.28125 58.90625 \nQ 39.453125 66.40625 31.78125 66.40625 \nz\nM 31.78125 74.21875 \nQ 44.046875 74.21875 50.515625 64.515625 \nQ 56.984375 54.828125 56.984375 36.375 \nQ 56.984375 17.96875 50.515625 8.265625 \nQ 44.046875 -1.421875 31.78125 -1.421875 \nQ 19.53125 -1.421875 13.0625 8.265625 \nQ 6.59375 17.96875 6.59375 36.375 \nQ 6.59375 54.828125 13.0625 64.515625 \nQ 19.53125 74.21875 31.78125 74.21875 \nz\n\" id=\"DejaVuSans-48\"/>\n      </defs>\n      <g transform=\"translate(634.897786 293.598437)scale(0.1 -0.1)\">\n       <use xlink:href=\"#DejaVuSans-49\"/>\n       <use x=\"63.623047\" xlink:href=\"#DejaVuSans-48\"/>\n       <use x=\"127.246094\" xlink:href=\"#DejaVuSans-56\"/>\n      </g>\n     </g>\n    </g>\n    <g id=\"xtick_13\">\n     <g id=\"line2d_13\">\n      <g>\n       <use style=\"stroke:#000000;stroke-width:0.8;\" x=\"696.918025\" xlink:href=\"#m974bd891a0\" y=\"279\"/>\n      </g>\n     </g>\n     <g id=\"text_13\">\n      <!-- 118 -->\n      <g transform=\"translate(687.374275 293.598437)scale(0.1 -0.1)\">\n       <use xlink:href=\"#DejaVuSans-49\"/>\n       <use x=\"63.623047\" xlink:href=\"#DejaVuSans-49\"/>\n       <use x=\"127.246094\" xlink:href=\"#DejaVuSans-56\"/>\n      </g>\n     </g>\n    </g>\n    <g id=\"xtick_14\">\n     <g id=\"line2d_14\">\n      <g>\n       <use style=\"stroke:#000000;stroke-width:0.8;\" x=\"749.394514\" xlink:href=\"#m974bd891a0\" y=\"279\"/>\n      </g>\n     </g>\n     <g id=\"text_14\">\n      <!-- 128 -->\n      <g transform=\"translate(739.850764 293.598437)scale(0.1 -0.1)\">\n       <use xlink:href=\"#DejaVuSans-49\"/>\n       <use x=\"63.623047\" xlink:href=\"#DejaVuSans-50\"/>\n       <use x=\"127.246094\" xlink:href=\"#DejaVuSans-56\"/>\n      </g>\n     </g>\n    </g>\n   </g>\n   <g id=\"matplotlib.axis_2\">\n    <g id=\"ytick_1\">\n     <g id=\"line2d_15\">\n      <defs>\n       <path d=\"M 0 0 \nL -3.5 0 \n\" id=\"m0a2f76ee7e\" style=\"stroke:#000000;stroke-width:0.8;\"/>\n      </defs>\n      <g>\n       <use style=\"stroke:#000000;stroke-width:0.8;\" x=\"39.65\" xlink:href=\"#m0a2f76ee7e\" y=\"274.655137\"/>\n      </g>\n     </g>\n     <g id=\"text_15\">\n      <!-- 3000 -->\n      <g transform=\"translate(7.2 278.454356)scale(0.1 -0.1)\">\n       <use xlink:href=\"#DejaVuSans-51\"/>\n       <use x=\"63.623047\" xlink:href=\"#DejaVuSans-48\"/>\n       <use x=\"127.246094\" xlink:href=\"#DejaVuSans-48\"/>\n       <use x=\"190.869141\" xlink:href=\"#DejaVuSans-48\"/>\n      </g>\n     </g>\n    </g>\n    <g id=\"ytick_2\">\n     <g id=\"line2d_16\">\n      <g>\n       <use style=\"stroke:#000000;stroke-width:0.8;\" x=\"39.65\" xlink:href=\"#m0a2f76ee7e\" y=\"224.339439\"/>\n      </g>\n     </g>\n     <g id=\"text_16\">\n      <!-- 3200 -->\n      <g transform=\"translate(7.2 228.138658)scale(0.1 -0.1)\">\n       <use xlink:href=\"#DejaVuSans-51\"/>\n       <use x=\"63.623047\" xlink:href=\"#DejaVuSans-50\"/>\n       <use x=\"127.246094\" xlink:href=\"#DejaVuSans-48\"/>\n       <use x=\"190.869141\" xlink:href=\"#DejaVuSans-48\"/>\n      </g>\n     </g>\n    </g>\n    <g id=\"ytick_3\">\n     <g id=\"line2d_17\">\n      <g>\n       <use style=\"stroke:#000000;stroke-width:0.8;\" x=\"39.65\" xlink:href=\"#m0a2f76ee7e\" y=\"174.02374\"/>\n      </g>\n     </g>\n     <g id=\"text_17\">\n      <!-- 3400 -->\n      <g transform=\"translate(7.2 177.822959)scale(0.1 -0.1)\">\n       <use xlink:href=\"#DejaVuSans-51\"/>\n       <use x=\"63.623047\" xlink:href=\"#DejaVuSans-52\"/>\n       <use x=\"127.246094\" xlink:href=\"#DejaVuSans-48\"/>\n       <use x=\"190.869141\" xlink:href=\"#DejaVuSans-48\"/>\n      </g>\n     </g>\n    </g>\n    <g id=\"ytick_4\">\n     <g id=\"line2d_18\">\n      <g>\n       <use style=\"stroke:#000000;stroke-width:0.8;\" x=\"39.65\" xlink:href=\"#m0a2f76ee7e\" y=\"123.708042\"/>\n      </g>\n     </g>\n     <g id=\"text_18\">\n      <!-- 3600 -->\n      <g transform=\"translate(7.2 127.50726)scale(0.1 -0.1)\">\n       <use xlink:href=\"#DejaVuSans-51\"/>\n       <use x=\"63.623047\" xlink:href=\"#DejaVuSans-54\"/>\n       <use x=\"127.246094\" xlink:href=\"#DejaVuSans-48\"/>\n       <use x=\"190.869141\" xlink:href=\"#DejaVuSans-48\"/>\n      </g>\n     </g>\n    </g>\n    <g id=\"ytick_5\">\n     <g id=\"line2d_19\">\n      <g>\n       <use style=\"stroke:#000000;stroke-width:0.8;\" x=\"39.65\" xlink:href=\"#m0a2f76ee7e\" y=\"73.392343\"/>\n      </g>\n     </g>\n     <g id=\"text_19\">\n      <!-- 3800 -->\n      <g transform=\"translate(7.2 77.191562)scale(0.1 -0.1)\">\n       <use xlink:href=\"#DejaVuSans-51\"/>\n       <use x=\"63.623047\" xlink:href=\"#DejaVuSans-56\"/>\n       <use x=\"127.246094\" xlink:href=\"#DejaVuSans-48\"/>\n       <use x=\"190.869141\" xlink:href=\"#DejaVuSans-48\"/>\n      </g>\n     </g>\n    </g>\n    <g id=\"ytick_6\">\n     <g id=\"line2d_20\">\n      <g>\n       <use style=\"stroke:#000000;stroke-width:0.8;\" x=\"39.65\" xlink:href=\"#m0a2f76ee7e\" y=\"23.076644\"/>\n      </g>\n     </g>\n     <g id=\"text_20\">\n      <!-- 4000 -->\n      <g transform=\"translate(7.2 26.875863)scale(0.1 -0.1)\">\n       <use xlink:href=\"#DejaVuSans-52\"/>\n       <use x=\"63.623047\" xlink:href=\"#DejaVuSans-48\"/>\n       <use x=\"127.246094\" xlink:href=\"#DejaVuSans-48\"/>\n       <use x=\"190.869141\" xlink:href=\"#DejaVuSans-48\"/>\n      </g>\n     </g>\n    </g>\n   </g>\n   <g id=\"line2d_21\">\n    <path clip-path=\"url(#pde323a76ec)\" d=\"M 77.695455 170.272827 \nL 82.943103 170.57265 \nL 88.190752 171.541805 \nL 93.438401 172.0642 \nL 98.68605 172.95228 \nL 103.933699 173.413016 \nL 114.428997 174.763049 \nL 119.676646 175.28865 \nL 140.667241 178.05169 \nL 145.91489 179.089827 \nL 151.162539 179.270644 \nL 156.410188 180.450313 \nL 161.657837 180.676517 \nL 166.905486 181.785902 \nL 172.153135 181.905971 \nL 177.400784 182.569653 \nL 182.648433 183.086279 \nL 187.896082 184.177841 \nL 193.14373 184.261687 \nL 198.391379 185.354523 \nL 203.639028 186.133891 \nL 208.886677 186.782896 \nL 214.134326 187.761907 \nL 219.381975 187.944253 \nL 229.877273 189.612463 \nL 235.124922 189.8684 \nL 240.372571 190.785854 \nL 245.620219 190.989771 \nL 250.867868 191.804317 \nL 261.363166 193.596807 \nL 266.610815 193.960706 \nL 271.858464 194.458837 \nL 277.106113 195.176344 \nL 282.353762 196.249091 \nL 287.601411 196.80784 \nL 292.84906 197.076212 \nL 298.096708 198.48282 \nL 303.344357 198.424557 \nL 308.592006 200.085119 \nL 313.839655 199.841443 \nL 319.087304 200.681513 \nL 329.582602 202.066479 \nL 334.830251 202.854021 \nL 345.325549 204.076011 \nL 350.573197 204.688991 \nL 355.820846 205.038476 \nL 366.316144 206.793135 \nL 371.563793 207.189623 \nL 376.811442 207.743756 \nL 382.059091 208.560731 \nL 387.30674 209.70314 \nL 392.554389 209.908165 \nL 397.802038 210.900796 \nL 403.049687 211.231495 \nL 408.297335 212.318311 \nL 413.544984 212.633465 \nL 418.792633 213.542869 \nL 424.040282 214.115944 \nL 429.287931 214.40868 \nL 439.783229 216.177276 \nL 445.030878 216.527597 \nL 450.278527 217.423955 \nL 455.526176 217.639629 \nL 466.021473 219.682885 \nL 471.269122 219.697794 \nL 476.516771 220.140842 \nL 481.76442 221.408882 \nL 487.012069 222.008632 \nL 492.259718 222.357083 \nL 497.507367 223.189657 \nL 502.755016 224.18673 \nL 508.002665 224.510236 \nL 513.250313 225.298142 \nL 518.497962 225.68894 \nL 523.745611 226.779057 \nL 528.99326 227.435217 \nL 534.240909 228.261443 \nL 544.736207 229.109261 \nL 549.983856 229.943545 \nL 555.231505 230.171996 \nL 560.479154 231.52629 \nL 565.726803 231.729408 \nL 570.974451 232.910584 \nL 576.2221 233.552746 \nL 581.469749 234.323948 \nL 586.717398 234.332591 \nL 591.965047 234.885088 \nL 597.212696 236.079168 \nL 612.955643 238.041137 \nL 618.203292 238.594965 \nL 623.45094 238.737234 \nL 628.698589 239.961979 \nL 633.946238 240.8515 \nL 639.193887 240.975497 \nL 644.441536 242.25208 \nL 649.689185 242.747225 \nL 660.184483 244.271823 \nL 665.432132 244.308099 \nL 675.927429 245.946057 \nL 681.175078 247.0178 \nL 691.670376 247.538646 \nL 696.918025 248.811878 \nL 702.165674 249.500137 \nL 707.413323 249.643419 \nL 712.660972 250.652241 \nL 717.908621 251.779313 \nL 723.15627 252.013227 \nL 728.403918 252.406551 \nL 733.651567 252.930399 \nL 738.899216 254.383635 \nL 744.146865 255.018441 \nL 754.642163 255.62241 \nL 759.889812 256.399659 \nL 765.137461 257.304849 \nL 775.632759 259.389835 \nL 780.880408 259.228979 \nL 786.128056 259.916309 \nL 791.375705 260.908463 \nL 796.623354 261.01511 \nL 801.871003 261.619354 \nL 807.118652 262.668787 \nL 812.366301 263.489005 \nL 817.61395 264.126783 \nL 822.861599 264.229353 \nL 828.109248 265.143955 \nL 838.604545 266.645455 \nL 838.604545 266.645455 \n\" style=\"fill:none;stroke:#0000ff;stroke-linecap:square;stroke-width:1.5;\"/>\n   </g>\n   <g id=\"line2d_22\">\n    <path clip-path=\"url(#pde323a76ec)\" d=\"M 229.877273 32.636627 \nL 235.124922 39.177668 \nL 245.620219 49.492386 \nL 250.867868 42.19661 \nL 266.610815 59.303947 \nL 298.096708 35.907148 \nL 361.068495 19.806124 \nL 418.792633 19.554545 \nL 508.002665 74.147078 \nL 523.745611 54.775534 \n\" style=\"fill:none;stroke:#008000;stroke-dasharray:5.55,2.4;stroke-dashoffset:0;stroke-width:1.5;\"/>\n   </g>\n   <g id=\"patch_3\">\n    <path d=\"M 39.65 279 \nL 39.65 7.2 \n\" style=\"fill:none;stroke:#000000;stroke-linecap:square;stroke-linejoin:miter;stroke-width:0.8;\"/>\n   </g>\n   <g id=\"patch_4\">\n    <path d=\"M 876.65 279 \nL 876.65 7.2 \n\" style=\"fill:none;stroke:#000000;stroke-linecap:square;stroke-linejoin:miter;stroke-width:0.8;\"/>\n   </g>\n   <g id=\"patch_5\">\n    <path d=\"M 39.65 279 \nL 876.65 279 \n\" style=\"fill:none;stroke:#000000;stroke-linecap:square;stroke-linejoin:miter;stroke-width:0.8;\"/>\n   </g>\n   <g id=\"patch_6\">\n    <path d=\"M 39.65 7.2 \nL 876.65 7.2 \n\" style=\"fill:none;stroke:#000000;stroke-linecap:square;stroke-linejoin:miter;stroke-width:0.8;\"/>\n   </g>\n  </g>\n </g>\n <defs>\n  <clipPath id=\"pde323a76ec\">\n   <rect height=\"271.8\" width=\"837\" x=\"39.65\" y=\"7.2\"/>\n  </clipPath>\n </defs>\n</svg>\n",
      "image/png": "[encoded data removed]"
     },
     "metadata": {
      "needs_background": "light"
     }
    },
    {
     "output_type": "stream",
     "name": "stdout",
     "text": "Competition metric -7.482053411890959\n"
    }
   ],
   "source": [
    "id_pat = np.random.randint(X_test.shape[0])\n",
    "X_pred = np.hstack([np.arange(-12,134).reshape(-1,1), np.repeat(X_test[id_pat:id_pat+1, 1:], 146, axis=0)])\n",
    "Y_pred = regr.predict_proba(X_pred, 100000)\n",
    "\n",
    "mask = df_test['Patient'] == pats_test[id_pat]\n",
    "test_vals = df_test[['Patient', 'Weeks', 'FVC']].values[mask,1:]\n",
    "\n",
    "plt.figure(figsize=(15,5))\n",
    "plt.plot((np.mean(Y_pred,1)*std_norm['FVC'])+mu_norm['FVC'], linestyle='-', c='b')\n",
    "#plt.plot((np.mean(Y_pred,1)*std_norm['FVC'])+mu_norm['FVC']+(np.std(Y_pred,1)*std_norm['FVC']+mu_norm['FVC']), linestyle='--', c='b')\n",
    "#plt.plot((np.mean(Y_pred,1)*std_norm['FVC'])+mu_norm['FVC']-(np.std(Y_pred,1)*std_norm['FVC']+mu_norm['FVC']), linestyle='--', c='b')\n",
    "\n",
    "plt.xticks(range(-12,134, 10), range(-12,134, 10))\n",
    "plt.scatter((test_vals[:,0]*std_norm['Weeks'])+mu_norm['Weeks'], (test_vals[:,1]*std_norm['FVC'])+mu_norm['FVC'], c='g')\n",
    "plt.plot((test_vals[:,0]*std_norm['Weeks'])+mu_norm['Weeks'], (test_vals[:,1]*std_norm['FVC'])+mu_norm['FVC'], linestyle='--', c='g')\n",
    "\n",
    "plt.scatter((X_test[id_pat:id_pat+1, 0]*std_norm['Weeks'])+mu_norm['Weeks'], (Y_test[id_pat:id_pat+1]*std_norm['FVC'])+mu_norm['FVC'], c='r')\n",
    "plt.show()\n",
    "\n",
    "Y_pred_comp = (regr.predict_proba(X_test, 100000)*std_norm['FVC'])+mu_norm['FVC']\n",
    "Y_true = (Y_test*std_norm['FVC'])+mu_norm['FVC']\n",
    "\n",
    "print('Competition metric', np.mean(competition_metric(Y_true, np.mean(Y_pred_comp,1), np.std(Y_pred_comp,1))))"
   ]
  },
  {
   "cell_type": "code",
   "execution_count": null,
   "metadata": {},
   "outputs": [],
   "source": []
  },
  {
   "cell_type": "code",
   "execution_count": null,
   "metadata": {},
   "outputs": [],
   "source": []
  },
  {
   "cell_type": "code",
   "execution_count": null,
   "metadata": {},
   "outputs": [],
   "source": []
  },
  {
   "cell_type": "code",
   "execution_count": null,
   "metadata": {},
   "outputs": [],
   "source": [
    "# Generate competition submission\n",
    "\n",
    "submission = []\n",
    "\n",
    "for i in range(test_df.shape[0]):\n",
    "    patient = test_df.values[i,0]\n",
    "    X_pred = test_df[cols_X].iloc[i:i+1,:]\n",
    "\n",
    "    for feat in ['Weeks', 'Percent', 'Age']:\n",
    "        X_pred[feat] = (X_pred[feat].values - mu_norm[feat])/std_norm[feat]\n",
    "    X_pred = X_pred.values.reshape(1,-1)\n",
    "\n",
    "    X_pred = np.hstack([np.arange(-12,134).reshape(-1,1), np.repeat(X_pred[:, 1:], 146, axis=0)])\n",
    "    Y_pred = (lin_reg.predict(X_pred)*std_norm['FVC'])+mu_norm['FVC']\n",
    "\n",
    "    patient_submission = []\n",
    "    for j, w in enumerate(np.arange(-12,134)):\n",
    "        vals = np.array([w, patient+'_'+str(w), Y_pred[j], (std_linreg*std_norm['FVC'])+mu_norm['FVC']]).reshape(1,-1)\n",
    "        vals = pd.DataFrame(vals, columns=['Week', 'Patient_Week', 'FVC', 'Confidence'])\n",
    "        vals['Week'] = vals['Week'].astype(np.int32)\n",
    "        vals['FVC'] = vals['FVC'].astype(np.float32)\n",
    "        vals['Confidence'] = vals['Confidence'].astype(np.float32)\n",
    "        patient_submission.append(vals)\n",
    "    patient_submission = pd.concat(patient_submission)\n",
    "    submission.append(patient_submission)\n",
    "\n",
    "submission = pd.concat(submission)\n",
    "submission.sort_values('Week', inplace=True)\n",
    "submission.drop(['Week'], 1, inplace=True)\n",
    "\n",
    "submission.head()\n",
    "submission.to_csv('submission.csv', index=False)"
   ]
  }
 ]
}