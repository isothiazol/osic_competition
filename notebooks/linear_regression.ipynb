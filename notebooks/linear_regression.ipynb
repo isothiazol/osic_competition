{
 "metadata": {
  "language_info": {
   "codemirror_mode": {
    "name": "ipython",
    "version": 3
   },
   "file_extension": ".py",
   "mimetype": "text/x-python",
   "name": "python",
   "nbconvert_exporter": "python",
   "pygments_lexer": "ipython3",
   "version": "3.6.10-final"
  },
  "orig_nbformat": 2,
  "kernelspec": {
   "name": "Python 3.6.10 64-bit ('py36': conda)",
   "display_name": "Python 3.6.10 64-bit ('py36': conda)",
   "metadata": {
    "interpreter": {
     "hash": "73fb50b98bc55ab5819a4c2ceb35b1ede81c9878d907dc98f54b6004841390e1"
    }
   }
  }
 },
 "nbformat": 4,
 "nbformat_minor": 2,
 "cells": [
  {
   "cell_type": "code",
   "execution_count": null,
   "metadata": {},
   "outputs": [],
   "source": [
    "import numpy as np \n",
    "import pandas as pd\n",
    "from tqdm import tqdm\n",
    "from matplotlib import pyplot as plt\n",
    "\n",
    "import sys\n",
    "sys.path.append('../scripts/') \n",
    "\n",
    "from aux_funcs import label_encoder, load_ct_scans, competition_metric, extract_img_id, get_config, make_ct_git, filter_by_std\n",
    "from sklearn.model_selection import train_test_split\n",
    "\n",
    "from sklearn.ensemble import RandomForestRegressor\n",
    "\n",
    "from tensorflow import keras\n",
    "\n",
    "config = get_config()\n",
    "train_df = pd.read_csv(config['data_path']+'/train.csv')\n",
    "test_df = pd.read_csv(config['data_path']+'/test.csv')\n",
    "sub_df = pd.read_csv(config['data_path']+'/sample_submission.csv')"
   ]
  },
  {
   "cell_type": "code",
   "execution_count": null,
   "metadata": {},
   "outputs": [],
   "source": [
    "def encode_categorical(df):\n",
    "    sex_encoding = {'Male':0, 'Female':1}\n",
    "    df.Sex = df.Sex.apply(lambda x: 1 if x == 'Female' else 0)\n",
    "    df['current_smoker'] = df.SmokingStatus.apply(lambda x: 1 if x == 'Currently smokes' else 0)\n",
    "    df['ex_smoker'] = df.SmokingStatus.apply(lambda x: 1 if x == 'Ex-smoker' else 0)\n",
    "    df['never_smoker'] = df.SmokingStatus.apply(lambda x: 1 if x == 'Never smoked' else 0)\n",
    "    df.drop(['SmokingStatus'],1,inplace=True)\n",
    "\n",
    "    return df"
   ]
  },
  {
   "cell_type": "code",
   "execution_count": null,
   "metadata": {},
   "outputs": [],
   "source": [
    "sub_df['Patient'] = sub_df.Patient_Week.apply(lambda x: x.split('_')[0])\n",
    "sub_df['Week'] = sub_df.Patient_Week.apply(lambda x: x.split('_')[1])\n",
    "sub_df.drop(['Patient_Week'], 1, inplace=True)"
   ]
  },
  {
   "cell_type": "code",
   "execution_count": null,
   "metadata": {},
   "outputs": [],
   "source": [
    "train_df = encode_categorical(train_df)\n",
    "test_df = encode_categorical(test_df)"
   ]
  },
  {
   "cell_type": "code",
   "execution_count": null,
   "metadata": {},
   "outputs": [],
   "source": [
    "patients_train, patients_test = train_test_split(np.unique(train_df['Patient'].values), test_size=0.3, shuffle=True, random_state=63)"
   ]
  },
  {
   "cell_type": "code",
   "execution_count": null,
   "metadata": {
    "tags": []
   },
   "outputs": [],
   "source": [
    "df_train = []\n",
    "for p in patients_train:\n",
    "    mask = train_df['Patient'] == p\n",
    "    df_train.append(train_df.values[mask])\n",
    "df_train = pd.DataFrame(np.concatenate(df_train, 0), columns=list(train_df.columns))\n",
    "\n",
    "df_test = []\n",
    "for p in patients_test:\n",
    "    mask = train_df['Patient'] == p\n",
    "    df_test.append(train_df.values[mask])\n",
    "df_test = pd.DataFrame(np.concatenate(df_test, 0), columns=list(train_df.columns))"
   ]
  },
  {
   "cell_type": "code",
   "execution_count": null,
   "metadata": {},
   "outputs": [],
   "source": [
    "# Normalizing data\n",
    "mu_norm = dict()\n",
    "std_norm = dict()\n",
    "\n",
    "for feat in ['Weeks', 'FVC', 'Percent', 'Age']:\n",
    "    mu_norm[feat], std_norm[feat] = np.mean(df_train[feat].values), np.std(df_train[feat].values)\n",
    "    df_train[feat] = (df_train[feat].values - mu_norm[feat])/std_norm[feat]\n",
    "    df_test[feat] = (df_test[feat].values - mu_norm[feat])/std_norm[feat]"
   ]
  },
  {
   "cell_type": "code",
   "execution_count": null,
   "metadata": {},
   "outputs": [],
   "source": [
    "pats_train = df_train['Patient'].values\n",
    "pats_test = df_test['Patient'].values\n",
    "\n",
    "X_train = df_train.drop(['Patient', 'FVC'], 1)\n",
    "cols_X = X_train.columns\n",
    "X_train = X_train.values\n",
    "Y_train = df_train['FVC'].values\n",
    "X_test = df_test.drop(['Patient', 'FVC'], 1).values\n",
    "Y_test = df_test['FVC'].values"
   ]
  },
  {
   "cell_type": "code",
   "execution_count": null,
   "metadata": {
    "tags": []
   },
   "outputs": [],
   "source": [
    "from sklearn.linear_model import LinearRegression\n",
    "\n",
    "lin_reg = LinearRegression(normalize=True, n_jobs=-1)\n",
    "lin_reg.fit(X_train, Y_train)\n",
    "\n",
    "print('Training Error', np.mean(np.square(Y_train - lin_reg.predict(X_train))))\n",
    "print('Test Error', np.mean(np.square(Y_test - lin_reg.predict(X_test))))\n",
    "\n",
    "std_linreg = np.std(Y_train - lin_reg.predict(X_train))\n",
    "\n",
    "id_pat = np.random.randint(X_test.shape[0])\n",
    "X_pred = np.hstack([np.arange(-12,134).reshape(-1,1), np.repeat(X_test[id_pat:id_pat+1, 1:], 146, axis=0)])\n",
    "linreg_pred = lin_reg.predict(X_pred)\n",
    "\n",
    "mask = df_test['Patient'] == pats_test[id_pat]\n",
    "test_vals = df_test[['Patient', 'Weeks', 'FVC']].values[mask,1:]\n",
    "\n",
    "Y_pred = (lin_reg.predict(X_test)*std_norm['FVC'])+mu_norm['FVC']\n",
    "Y_true = (Y_test*std_norm['FVC'])+mu_norm['FVC']\n",
    "sigma = np.ones_like(Y_pred)*((std_linreg*std_norm['FVC'])+mu_norm['FVC'])\n",
    "\n",
    "alphas, metrics = [], []\n",
    "for alpha in np.arange(0,10,0.01):\n",
    "    alphas.append(round(alpha,3))\n",
    "    metrics.append(round(np.mean(competition_metric(Y_true, Y_pred, alpha*sigma)),3))\n",
    "\n",
    "opt_alpha = alphas[np.argmax(metrics)]\n",
    "\n",
    "plt.figure(figsize=(15,5))\n",
    "plt.plot(alphas, metrics)\n",
    "plt.grid()\n",
    "plt.xticks(np.arange(0,10), np.arange(0,10))\n",
    "plt.show()\n",
    "print('Best alpha', opt_alpha, '; Metric =', metrics[np.argmax(metrics)])\n",
    "\n",
    "plt.figure(figsize=(15,5))\n",
    "plt.plot((linreg_pred*std_norm['FVC'])+mu_norm['FVC'], linestyle='-', c='b')\n",
    "plt.plot((linreg_pred*std_norm['FVC'])+mu_norm['FVC']+opt_alpha*((std_linreg*std_norm['FVC'])+mu_norm['FVC']), linestyle='--', c='b')\n",
    "plt.plot((linreg_pred*std_norm['FVC'])+mu_norm['FVC']-opt_alpha*((std_linreg*std_norm['FVC'])+mu_norm['FVC']), linestyle='--', c='b')\n",
    "\n",
    "plt.xticks(range(-12,134, 10), range(-12,134, 10))\n",
    "plt.scatter((test_vals[:,0]*std_norm['Weeks'])+mu_norm['Weeks'], (test_vals[:,1]*std_norm['FVC'])+mu_norm['FVC'], c='g')\n",
    "plt.plot((test_vals[:,0]*std_norm['Weeks'])+mu_norm['Weeks'], (test_vals[:,1]*std_norm['FVC'])+mu_norm['FVC'], linestyle='--', c='g')\n",
    "\n",
    "plt.scatter((X_test[id_pat:id_pat+1, 0]*std_norm['Weeks'])+mu_norm['Weeks'], (Y_test[id_pat:id_pat+1]*std_norm['FVC'])+mu_norm['FVC'], c='r')\n",
    "plt.show()\n",
    "\n",
    "print('Competition metric', np.mean(competition_metric(Y_true, Y_pred, opt_alpha*sigma)))"
   ]
  },
  {
   "cell_type": "code",
   "execution_count": null,
   "metadata": {},
   "outputs": [],
   "source": [
    "# Generate competition submission\n",
    "\n",
    "\n",
    "submission = []\n",
    "\n",
    "for i in range(test_df.shape[0]):\n",
    "    patient = test_df.values[i,0]\n",
    "    X_pred = test_df[cols_X].iloc[i:i+1,:]\n",
    "\n",
    "    for feat in ['Weeks', 'Percent', 'Age']:\n",
    "        X_pred[feat] = (X_pred[feat].values - mu_norm[feat])/std_norm[feat]\n",
    "    X_pred = X_pred.values.reshape(1,-1)\n",
    "\n",
    "    X_pred = np.hstack([np.arange(-12,134).reshape(-1,1), np.repeat(X_pred[:, 1:], 146, axis=0)])\n",
    "    Y_pred = (lin_reg.predict(X_pred)*std_norm['FVC'])+mu_norm['FVC']\n",
    "\n",
    "    patient_submission = []\n",
    "    for j, w in enumerate(np.arange(-12,134)):\n",
    "        vals = np.array([w, patient+'_'+str(w), Y_pred[j], opt_alpha*((std_linreg*std_norm['FVC'])+mu_norm['FVC'])]).reshape(1,-1)\n",
    "        vals = pd.DataFrame(vals, columns=['Week', 'Patient_Week', 'FVC', 'Confidence'])\n",
    "        vals['Week'] = vals['Week'].astype(np.int32)\n",
    "        vals['FVC'] = vals['FVC'].astype(np.float32)\n",
    "        vals['Confidence'] = vals['Confidence'].astype(np.float32)\n",
    "        patient_submission.append(vals)\n",
    "    patient_submission = pd.concat(patient_submission)\n",
    "    submission.append(patient_submission)\n",
    "\n",
    "submission = pd.concat(submission)\n",
    "submission.sort_values('Week', inplace=True)\n",
    "submission.drop(['Week'], 1, inplace=True)"
   ]
  },
  {
   "cell_type": "code",
   "execution_count": null,
   "metadata": {},
   "outputs": [],
   "source": [
    "submission.head()"
   ]
  },
  {
   "cell_type": "code",
   "execution_count": null,
   "metadata": {},
   "outputs": [],
   "source": [
    "#submission.to_csv('submission.csv', index=False)"
   ]
  }
 ]
}